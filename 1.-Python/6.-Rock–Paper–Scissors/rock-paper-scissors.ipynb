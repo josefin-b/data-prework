{
 "cells": [
  {
   "cell_type": "markdown",
   "metadata": {},
   "source": [
    "<img src=\"https://bit.ly/2VnXWr2\" width=\"100\" align=\"left\">"
   ]
  },
  {
   "cell_type": "markdown",
   "metadata": {},
   "source": [
    "# Rock, Paper & Scissors\n",
    "\n",
    "Let's play the famous game against our computer. You can check the rules [here](https://en.wikipedia.org/wiki/Rock%E2%80%93paper%E2%80%93scissors). \n",
    "\n",
    "## Task\n",
    "Create a program that imitates the playability of the well known game of rock, paper, scissors. Follow the guidelines provided.\n",
    "\n",
    "## Tools\n",
    "1. Loop: **for/while**\n",
    "2. Functions: **input(), print()...**\n",
    "3. Conditional statements: **if, elif, else**\n",
    "4. Definition of functions. Modular programming\n",
    "5. Import modules\n",
    "\n",
    "**To solve this challenge, the use of functions is recommended.**\n",
    "\n",
    "#### 1. Import the choice function of the random module."
   ]
  },
  {
   "cell_type": "code",
   "execution_count": 88,
   "metadata": {},
   "outputs": [],
   "source": [
    "from random import choice"
   ]
  },
  {
   "cell_type": "markdown",
   "metadata": {},
   "source": [
    "#### 2. Create a list that includes the 3 possible gesture options of the game: 'rock', 'paper' or 'scissors'. Store the list in a variable called `gestures`."
   ]
  },
  {
   "cell_type": "code",
   "execution_count": 89,
   "metadata": {},
   "outputs": [],
   "source": [
    "gestures = ['Rock','Paper','Scissors']"
   ]
  },
  {
   "cell_type": "markdown",
   "metadata": {},
   "source": [
    "#### 3. Create a variable called `n_rounds` to store the maximum number of rounds to play in a game. \n",
    "Remember that the number of rounds must be odd: 1, 3, 5, ..."
   ]
  },
  {
   "cell_type": "code",
   "execution_count": 90,
   "metadata": {},
   "outputs": [
    {
     "name": "stdout",
     "output_type": "stream",
     "text": [
      "How many rounds do you want to play? (Choose an odd number.): 5\n",
      "Fantastic! Let's play 5 rounds.\n"
     ]
    }
   ],
   "source": [
    "n_rounds = input(\"How many rounds do you want to play? (Choose an odd number.): \")\n",
    "\n",
    "n_rounds = int(n_rounds)\n",
    "if n_rounds %2 == 0:\n",
    "    print(\"This is not an odd number.\")\n",
    "    n_rounds = 0\n",
    "elif n_rounds > 10:\n",
    "    print(\"Nah, let's play less than 10 rounds.\")\n",
    "else:\n",
    "    print(\"Fantastic! Let's play\", int(n_rounds), \"rounds.\")"
   ]
  },
  {
   "cell_type": "markdown",
   "metadata": {},
   "source": [
    "#### 4. Create a variable called `rounds_to_win` to store the number of rounds that a player must win to win the game.\n",
    "**Hint**: the value stored in `rounds_to_win` depends on the value of `n_rounds`. "
   ]
  },
  {
   "cell_type": "code",
   "execution_count": 91,
   "metadata": {},
   "outputs": [
    {
     "name": "stdout",
     "output_type": "stream",
     "text": [
      "3\n"
     ]
    }
   ],
   "source": [
    "rounds_to_win = int(n_rounds/2) + 1\n",
    "print(rounds_to_win)"
   ]
  },
  {
   "cell_type": "markdown",
   "metadata": {},
   "source": [
    "#### 5. Create two variables to store the number of rounds that the computer and the player have won. Call these variables `cpu_score` and `player_score`."
   ]
  },
  {
   "cell_type": "code",
   "execution_count": 92,
   "metadata": {},
   "outputs": [],
   "source": [
    "cpu_score = 0\n",
    "player_score = 0"
   ]
  },
  {
   "cell_type": "markdown",
   "metadata": {},
   "source": [
    "#### 6. Define a function that randomly returns one of the 3 gesture options.\n",
    "You will use this function to simulate the gesture choice of the computer. "
   ]
  },
  {
   "cell_type": "code",
   "execution_count": 96,
   "metadata": {},
   "outputs": [],
   "source": [
    "def cpu_choice(gestures):\n",
    "    cpu_choice = random.randint(1,3)\n",
    "    if cpu_choice == 1:\n",
    "        return gestures [0]\n",
    "    elif cpu_choice == 2:\n",
    "        return gestures [1]\n",
    "    else: \n",
    "        return gestures [2]\n",
    "    cpu = cpu_choice(gestures)"
   ]
  },
  {
   "cell_type": "markdown",
   "metadata": {},
   "source": [
    "#### 7. Define a function that asks the player which is the gesture he or she wants to show: 'rock', 'paper' or 'scissors'.\n",
    "The player should only be allowed to choose one of the 3 gesture options. If the player's choice is not rock, paper or scissors, keep asking until it is."
   ]
  },
  {
   "cell_type": "code",
   "execution_count": 97,
   "metadata": {
    "scrolled": true
   },
   "outputs": [
    {
     "name": "stdout",
     "output_type": "stream",
     "text": [
      "Enter the number of your choice: \n",
      " 1: Rock \n",
      " 2: Paper \n",
      " 3: Scissors\n",
      "Number: 2\n",
      "Paper\n"
     ]
    }
   ],
   "source": [
    "def user_choice(gestures):\n",
    "    print(\"Enter the number of your choice: \\n 1:\", gestures[0], \"\\n 2:\", gestures[1], \"\\n 3:\", gestures[2])\n",
    "    user_choice = int(input(\"Number: \"))\n",
    "\n",
    "    while user_choice > 3 or user_choice < 1:\n",
    "        user_choice = int(input(\"This is not a valid number. Please try again: \"))\n",
    "\n",
    "    if user_choice == 1:\n",
    "        return gestures [0]\n",
    "    if user_choice == 2:\n",
    "        return gestures [1]\n",
    "    if user_choice == 3:\n",
    "        return gestures [2]\n",
    "\n",
    "user = user_choice(gestures)\n",
    "print(user)"
   ]
  },
  {
   "cell_type": "markdown",
   "metadata": {},
   "source": [
    "#### 8. Define a function that checks who won a round. \n",
    "The function should return 0 if there is a tie, 1 if the computer wins and 2 if the player wins."
   ]
  },
  {
   "cell_type": "code",
   "execution_count": 98,
   "metadata": {},
   "outputs": [],
   "source": [
    "def winner_round(user, cpu, gestures):\n",
    "    if user == cpu:\n",
    "        return 0\n",
    "    elif user == gestures [0] and cpu == gestures [1]:\n",
    "        return 1\n",
    "    elif user == gestures [0] and cpu == gestures [2]:\n",
    "        return 2\n",
    "    elif user == gestures [1] and cpu == gestures [2]:\n",
    "        return 1\n",
    "    elif user == gestures [1] and cpu == gestures [0]:\n",
    "        return 2\n",
    "    elif user == gestures [2] and cpu == gestures [0]:\n",
    "        return 1\n",
    "    elif user == gestures [2] and cpu == gestures [1]:\n",
    "        return 2"
   ]
  },
  {
   "cell_type": "markdown",
   "metadata": {},
   "source": [
    "#### 9. Define a function that prints the choice of the computer, the choice of the player and a message that announces who won the current round. \n",
    "You should also use this function to update the variables that count the number of rounds that the computer and the player have won. The score of the winner increases by one point. If there is a tie, the score does not increase."
   ]
  },
  {
   "cell_type": "code",
   "execution_count": 99,
   "metadata": {},
   "outputs": [],
   "source": [
    "def announce_winner(round,user,cpu,):\n",
    "    print(\"The computer´s choice is {} and your choice is {}\".format(cpu,user))\n",
    "    if round(user,cpu,gestures) == 0:\n",
    "        print('Round tie')\n",
    "    elif round(user,cpu,gestures) == 1:\n",
    "        print('The computer wins this round')\n",
    "    elif round(user,cpu,gestures) == 2:\n",
    "        print('You win')\n",
    "    else:\n",
    "        pass"
   ]
  },
  {
   "cell_type": "markdown",
   "metadata": {},
   "source": [
    "#### 10. Now it's time to code the execution of the game using the functions and variables you defined above. \n",
    "\n",
    "First, create a loop structure that repeats while no player reaches the minimum score necessary to win and the number of rounds is less than the maximum number of rounds to play in a game.  \n",
    "\n",
    "Inside the loop, use the functions and variables above to create the execution of a round: ask for the player's choice, generate the random choice of the computer, show the round results, update the scores, etc. "
   ]
  },
  {
   "cell_type": "code",
   "execution_count": 102,
   "metadata": {},
   "outputs": [
    {
     "name": "stdout",
     "output_type": "stream",
     "text": [
      "Enter the number of your choice: \n",
      " 1: Rock \n",
      " 2: Paper \n",
      " 3: Scissors\n",
      "Number: 1\n",
      "Rock\n"
     ]
    },
    {
     "ename": "NameError",
     "evalue": "name 'cpu' is not defined",
     "output_type": "error",
     "traceback": [
      "\u001b[1;31m---------------------------------------------------------------------------\u001b[0m",
      "\u001b[1;31mNameError\u001b[0m                                 Traceback (most recent call last)",
      "\u001b[1;32m<ipython-input-102-2cdc2caf9184>\u001b[0m in \u001b[0;36m<module>\u001b[1;34m\u001b[0m\n\u001b[0;32m     55\u001b[0m         \u001b[1;32melse\u001b[0m\u001b[1;33m:\u001b[0m\u001b[1;33m\u001b[0m\u001b[1;33m\u001b[0m\u001b[0m\n\u001b[0;32m     56\u001b[0m             \u001b[1;32mpass\u001b[0m\u001b[1;33m\u001b[0m\u001b[1;33m\u001b[0m\u001b[0m\n\u001b[1;32m---> 57\u001b[1;33m     \u001b[0mprint\u001b[0m\u001b[1;33m(\u001b[0m\u001b[0mannounce_winner\u001b[0m\u001b[1;33m(\u001b[0m\u001b[0mround\u001b[0m\u001b[1;33m,\u001b[0m \u001b[0muser\u001b[0m\u001b[1;33m,\u001b[0m \u001b[0mcpu\u001b[0m\u001b[1;33m)\u001b[0m\u001b[1;33m)\u001b[0m\u001b[1;33m\u001b[0m\u001b[1;33m\u001b[0m\u001b[0m\n\u001b[0m\u001b[0;32m     58\u001b[0m \u001b[1;33m\u001b[0m\u001b[0m\n\u001b[0;32m     59\u001b[0m     \u001b[1;32mif\u001b[0m \u001b[0mround\u001b[0m\u001b[1;33m(\u001b[0m\u001b[0muser\u001b[0m\u001b[1;33m,\u001b[0m\u001b[0mcpu\u001b[0m\u001b[1;33m,\u001b[0m\u001b[0mgestures\u001b[0m\u001b[1;33m)\u001b[0m \u001b[1;33m==\u001b[0m \u001b[1;36m1\u001b[0m\u001b[1;33m:\u001b[0m\u001b[1;33m\u001b[0m\u001b[1;33m\u001b[0m\u001b[0m\n",
      "\u001b[1;31mNameError\u001b[0m: name 'cpu' is not defined"
     ]
    }
   ],
   "source": [
    "actual_rounds = 0\n",
    "\n",
    "while actual_rounds < n_rounds:\n",
    "    actual_rounds += 1\n",
    "   \n",
    "    def cpu_choice(gestures):\n",
    "        cpu_choice = random.randint(1,3)\n",
    "        if cpu_choice == 1:\n",
    "            return gestures [0]\n",
    "        elif cpu_choice == 2:\n",
    "            return gestures [1]\n",
    "        else: \n",
    "            return gestures [2]\n",
    "        cpu = cpu_choice(gestures)\n",
    "    \n",
    "    def user_choice(gestures):\n",
    "        print(\"Enter the number of your choice: \\n 1:\", gestures[0], \"\\n 2:\", gestures[1], \"\\n 3:\", gestures[2])\n",
    "        user_choice = int(input(\"Number: \"))\n",
    "        while user_choice > 3 or user_choice < 1:\n",
    "            user_choice = int(input(\"This is not a valid number. Please try again: \"))\n",
    "\n",
    "        if user_choice == 1:\n",
    "            return gestures [0]\n",
    "        if user_choice == 2:\n",
    "            return gestures [1]\n",
    "        if user_choice == 3:\n",
    "            return gestures [2]\n",
    "    user = user_choice(gestures)\n",
    "    print(user)\n",
    "    \n",
    "    def winner_round(user, cpu, gestures):\n",
    "        if user == cpu:\n",
    "            return 0\n",
    "        elif user == gestures [0] and cpu == gestures [1]:\n",
    "            return 1\n",
    "        elif user == gestures [0] and cpu == gestures [2]:\n",
    "            return 2\n",
    "        elif user == gestures [1] and cpu == gestures [2]:\n",
    "            return 1\n",
    "        elif user == gestures [1] and cpu == gestures [0]:\n",
    "            return 2\n",
    "        elif user == gestures [2] and cpu == gestures [0]:\n",
    "            return 1\n",
    "        elif user == gestures [2] and cpu == gestures [1]:\n",
    "            return 2\n",
    "        \n",
    "    def announce_winner(round,user,cpu,):\n",
    "        print(\"The computer chose {} and you chose {}\".format(cpu,user))\n",
    "        if round(user,cpu,gestures) == 0:\n",
    "            print('Round tie')\n",
    "        elif round(user,cpu,gestures) == 1:\n",
    "            print('The computer wins this round')\n",
    "        elif round(user,cpu,gestures) == 2:\n",
    "            print('You win')\n",
    "        else:\n",
    "            pass\n",
    "    print(announce_winner(round, user, cpu))\n",
    "    \n",
    "    if round(user,cpu,gestures) == 1:\n",
    "        cpu_score +=1\n",
    "    elif round(user,cpu,gestures) == 2:\n",
    "        player_score +=1\n",
    "    else:\n",
    "        pass"
   ]
  },
  {
   "cell_type": "markdown",
   "metadata": {},
   "source": [
    "#### 11. Print the winner of the game based on who won more rounds.\n",
    "Remember that the game might be tied. "
   ]
  },
  {
   "cell_type": "code",
   "execution_count": 103,
   "metadata": {},
   "outputs": [],
   "source": [
    "if player_score == rounds_to_win:\n",
    "    print('you win the game')\n",
    "elif cpu_score == rounds_to_win:\n",
    "    print('The computer wins the game')"
   ]
  },
  {
   "cell_type": "markdown",
   "metadata": {},
   "source": [
    "# Bonus: Rock, Paper, Scissors, Lizard & Spock\n",
    "![](images/rpsls.jpg)\n",
    "\n",
    "In this challenge, you need to improve the previous game by adding two new options. To know more about the rules of the improved version of rock, paper, scissors, check this [link](http://www.samkass.com/theories/RPSSL.html). \n",
    "\n",
    "In addition, you will also need to improve how the game interacts with the player: the number of rounds to play, which must be an odd number, will be requested to the user until a valid number is entered. Define a new function to make that request.\n",
    "\n",
    "**Hint**: Try to reuse the code that you already coded in the previous challenge. If your code is efficient, this bonus will only consist of simple modifications to the original game."
   ]
  },
  {
   "cell_type": "code",
   "execution_count": null,
   "metadata": {},
   "outputs": [],
   "source": []
  }
 ],
 "metadata": {
  "kernelspec": {
   "display_name": "Python 3",
   "language": "python",
   "name": "python3"
  },
  "language_info": {
   "codemirror_mode": {
    "name": "ipython",
    "version": 3
   },
   "file_extension": ".py",
   "mimetype": "text/x-python",
   "name": "python",
   "nbconvert_exporter": "python",
   "pygments_lexer": "ipython3",
   "version": "3.8.5"
  }
 },
 "nbformat": 4,
 "nbformat_minor": 2
}
